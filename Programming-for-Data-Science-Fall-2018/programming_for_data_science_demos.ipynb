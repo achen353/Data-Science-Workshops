{
 "cells": [
  {
   "cell_type": "markdown",
   "metadata": {},
   "source": [
    "Alter this file as much as you like. You learn best by coding yourself!\n",
    "\n",
    "This first code block is an example displaying conditional execution."
   ]
  },
  {
   "cell_type": "code",
   "execution_count": null,
   "metadata": {},
   "outputs": [],
   "source": [
    "print(\"Entering a bar in the United States\")\n",
    "age = float(input(\"How old are you?: \")) # Input is a function that allows the user to enter a value used by a program\n",
    "                                         # during execution of the code\n",
    "if age >= 21:\n",
    "    print(\"You're good. Go nuts!\")\n",
    "elif age >= 18:\n",
    "    print(\"Maybe overseas, but not here. Sorry.\")\n",
    "else:\n",
    "    print(\"I'm gonna pretend you didn't try.\")"
   ]
  },
  {
   "cell_type": "markdown",
   "metadata": {},
   "source": [
    "This second code block is an example displaying looping execution.\n",
    "\n",
    "Note that any for loop can be written as a while loop, but not every while loop can be written as a for loop."
   ]
  },
  {
   "cell_type": "code",
   "execution_count": null,
   "metadata": {},
   "outputs": [],
   "source": [
    "my_string = str(input(\"Enter something that you love seeing: \"))\n",
    "for num in range(len(my_string)):\n",
    "    print(my_string[:num + 1]) # This operation splices the string to print all characters up to, but not including \n",
    "                               # the num + 1 index\n",
    "ind = len(my_string) - 1\n",
    "while ind > 0:\n",
    "    print(my_string[:ind])\n",
    "    ind -= 1"
   ]
  },
  {
   "cell_type": "markdown",
   "metadata": {},
   "source": [
    "This last code block is a slightly complex example displaying function execution and variables with different scopes\n",
    "\n",
    "Note that you can write functions to complete some functionality for other functions"
   ]
  },
  {
   "cell_type": "code",
   "execution_count": null,
   "metadata": {},
   "outputs": [],
   "source": [
    "arg = 7 # This variable has global scope (can be accessed throughout the file)\n",
    "\n",
    "def helper_func():\n",
    "    print('Executing inner function')\n",
    "    return arg # The value used here is that of the global arg variable\n",
    "\n",
    "def main_func():\n",
    "    arg = 1 # This variable has local scope relative to main_func (can only be accessed wihtin this function)\n",
    "    if helper_func() == None:\n",
    "        return \"Stopped after conditional number {0}\".format(arg)\n",
    "    arg += 1\n",
    "    if helper_func() == '7':\n",
    "        return \"Stopped after conditional number {0}\".format(arg)\n",
    "    arg += 1 # Note that the local 'arg' variable is used instead of the global arg variable within this function\n",
    "    if helper_func() == 7:\n",
    "        return \"Stopped after conditional number {0}\".format(arg)\n",
    "\n",
    "print(main_func())"
   ]
  }
 ],
 "metadata": {
  "kernelspec": {
   "display_name": "Python 3",
   "language": "python",
   "name": "python3"
  },
  "language_info": {
   "codemirror_mode": {
    "name": "ipython",
    "version": 3
   },
   "file_extension": ".py",
   "mimetype": "text/x-python",
   "name": "python",
   "nbconvert_exporter": "python",
   "pygments_lexer": "ipython3",
   "version": "3.6.4"
  }
 },
 "nbformat": 4,
 "nbformat_minor": 2
}
